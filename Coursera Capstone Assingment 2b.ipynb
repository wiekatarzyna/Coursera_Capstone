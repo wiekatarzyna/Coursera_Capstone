{
    "cells": [
        {
            "cell_type": "markdown",
            "metadata": {
                "collapsed": true
            },
            "source": "Parsing data from wikipedia"
        },
        {
            "cell_type": "code",
            "execution_count": 47,
            "metadata": {},
            "outputs": [],
            "source": "import requests\nfrom bs4 import BeautifulSoup\nimport pandas as pd\nimport urllib.request\n\n# Use SHIFT+TAB keys to popup inplace code help\n%config IPCompleter.greedy = True\n\n# Output multiple statements from one input cell\nfrom IPython.core.interactiveshell import InteractiveShell\nInteractiveShell.ast_node_interactivity = \"all\""
        },
        {
            "cell_type": "code",
            "execution_count": 48,
            "metadata": {},
            "outputs": [],
            "source": "table_from_top = 1\nwikipedia_page = 'List_of_postal_codes_of_Canada'\ntrace = False"
        },
        {
            "cell_type": "code",
            "execution_count": 49,
            "metadata": {},
            "outputs": [],
            "source": "wikipedia_url = 'https://en.wikipedia.org/wiki/List_of_postal_codes_of_Canada:_M'.format(wikipedia_page)\npage = requests.get(wikipedia_url)\nsoup = BeautifulSoup(page.content, 'lxml')\ntables = soup.find_all('table', {'class': 'wikitable'})\ntable = tables[table_from_top - 1]"
        },
        {
            "cell_type": "code",
            "execution_count": 50,
            "metadata": {},
            "outputs": [
                {
                    "data": {
                        "text/plain": "'Postal Code'"
                    },
                    "execution_count": 50,
                    "metadata": {},
                    "output_type": "execute_result"
                },
                {
                    "data": {
                        "text/plain": "'Borough'"
                    },
                    "execution_count": 50,
                    "metadata": {},
                    "output_type": "execute_result"
                },
                {
                    "data": {
                        "text/plain": "'Neighbourhood'"
                    },
                    "execution_count": 50,
                    "metadata": {},
                    "output_type": "execute_result"
                }
            ],
            "source": "feature_names = []\n\nheader_row = table.find('tr')\nfor header in header_row.find_all('th'):\n    feature_name = ' '.join(header.find_all(text=True))\n    feature_name.replace('\\n', '')\n    feature_names.append(feature_name)"
        },
        {
            "cell_type": "code",
            "execution_count": 51,
            "metadata": {},
            "outputs": [],
            "source": "def has_coords(tag):\n    if tag.has_attr('class'):\n        if tag['class'][0] == 'latitude' or tag['class'][0] == 'longitude':\n            return True\n    return False\n\ndef get_coords(child):\n    coords = []\n    for coord in child.find_all(has_coords):\n        coords.append(coord.string)\n    if coords:\n        if trace:\n            return 'C = {}'.format(' '.join(coords))\n        else:\n            return ' '.join(coords)\n    else:\n        return ''\n\nsamples = []\nsample_rows = table.find_all('tr')[1:]\nfor sample_row in sample_rows:\n    features = []\n    for feature_col in sample_row.find_all('td'):\n        feature_value = ''\n        text = feature_col.string\n        if text:\n            if trace:\n                features.append('T = {}'.format(text))\n            else:\n                features.append(text)\n            continue\n        \n        for child in feature_col.children:\n            if child.name == 'span':\n                if child.has_attr('class'):\n                    if child['class'] == 'display:none':\n                        continue\n                if child.find_all(has_coords):\n                    feature_value = get_coords(child)\n                    if feature_value:\n                        break\n                    else:\n                        continue\n            if child.name == 'sup':\n                continue\n            if child.name == 'a':\n                if child.string[0] == '[':\n                    continue            \n            if child.name == 'a':\n                if trace:\n                    feature_value = 'A = {}'.format(child.string)\n                else:\n                    feature_value = child.string\n                break\n            if child.name == 'font':\n                if trace:\n                    feature_value = 'F = {}'.format(child.string)\n                else:\n                    feature_value = child.string\n                break\n            try:\n                # feature_value = '' for any tags not covered above\n                content = child.contents\n            except AttributeError:\n                # Handle whitespace between child tags, treated as a child string\n                if child.isspace():\n                    continue\n                if trace:\n                    feature_value = 'E = {}'.format(child)\n                else:\n                    feature_value = child\n                break\n        features.append(feature_value)\n    samples.append(dict(zip(feature_names, features)))"
        },
        {
            "cell_type": "code",
            "execution_count": 52,
            "metadata": {},
            "outputs": [
                {
                    "data": {
                        "text/html": "<div>\n<style scoped>\n    .dataframe tbody tr th:only-of-type {\n        vertical-align: middle;\n    }\n\n    .dataframe tbody tr th {\n        vertical-align: top;\n    }\n\n    .dataframe thead th {\n        text-align: right;\n    }\n</style>\n<table border=\"1\" class=\"dataframe\">\n  <thead>\n    <tr style=\"text-align: right;\">\n      <th></th>\n      <th>Postal Code\\n</th>\n      <th>Borough\\n</th>\n      <th>Neighbourhood\\n</th>\n    </tr>\n  </thead>\n  <tbody>\n    <tr>\n      <th>0</th>\n      <td>M1A\\n</td>\n      <td>Not assigned\\n</td>\n      <td>Not assigned\\n</td>\n    </tr>\n    <tr>\n      <th>1</th>\n      <td>M2A\\n</td>\n      <td>Not assigned\\n</td>\n      <td>Not assigned\\n</td>\n    </tr>\n    <tr>\n      <th>2</th>\n      <td>M3A\\n</td>\n      <td>North York\\n</td>\n      <td>Parkwoods\\n</td>\n    </tr>\n    <tr>\n      <th>3</th>\n      <td>M4A\\n</td>\n      <td>North York\\n</td>\n      <td>Victoria Village\\n</td>\n    </tr>\n    <tr>\n      <th>4</th>\n      <td>M5A\\n</td>\n      <td>Downtown Toronto\\n</td>\n      <td>Regent Park, Harbourfront\\n</td>\n    </tr>\n  </tbody>\n</table>\n</div>",
                        "text/plain": "  Postal Code\\n           Borough\\n              Neighbourhood\\n\n0         M1A\\n      Not assigned\\n               Not assigned\\n\n1         M2A\\n      Not assigned\\n               Not assigned\\n\n2         M3A\\n        North York\\n                  Parkwoods\\n\n3         M4A\\n        North York\\n           Victoria Village\\n\n4         M5A\\n  Downtown Toronto\\n  Regent Park, Harbourfront\\n"
                    },
                    "execution_count": 52,
                    "metadata": {},
                    "output_type": "execute_result"
                },
                {
                    "data": {
                        "text/html": "<div>\n<style scoped>\n    .dataframe tbody tr th:only-of-type {\n        vertical-align: middle;\n    }\n\n    .dataframe tbody tr th {\n        vertical-align: top;\n    }\n\n    .dataframe thead th {\n        text-align: right;\n    }\n</style>\n<table border=\"1\" class=\"dataframe\">\n  <thead>\n    <tr style=\"text-align: right;\">\n      <th></th>\n      <th>Postal Code\\n</th>\n      <th>Borough\\n</th>\n      <th>Neighbourhood\\n</th>\n    </tr>\n  </thead>\n  <tbody>\n    <tr>\n      <th>175</th>\n      <td>M5Z\\n</td>\n      <td>Not assigned\\n</td>\n      <td>Not assigned\\n</td>\n    </tr>\n    <tr>\n      <th>176</th>\n      <td>M6Z\\n</td>\n      <td>Not assigned\\n</td>\n      <td>Not assigned\\n</td>\n    </tr>\n    <tr>\n      <th>177</th>\n      <td>M7Z\\n</td>\n      <td>Not assigned\\n</td>\n      <td>Not assigned\\n</td>\n    </tr>\n    <tr>\n      <th>178</th>\n      <td>M8Z\\n</td>\n      <td>Etobicoke\\n</td>\n      <td>Mimico NW, The Queensway West, South of Bloor,...</td>\n    </tr>\n    <tr>\n      <th>179</th>\n      <td>M9Z\\n</td>\n      <td>Not assigned\\n</td>\n      <td>Not assigned\\n</td>\n    </tr>\n  </tbody>\n</table>\n</div>",
                        "text/plain": "    Postal Code\\n       Borough\\n  \\\n175         M5Z\\n  Not assigned\\n   \n176         M6Z\\n  Not assigned\\n   \n177         M7Z\\n  Not assigned\\n   \n178         M8Z\\n     Etobicoke\\n   \n179         M9Z\\n  Not assigned\\n   \n\n                                       Neighbourhood\\n  \n175                                     Not assigned\\n  \n176                                     Not assigned\\n  \n177                                     Not assigned\\n  \n178  Mimico NW, The Queensway West, South of Bloor,...  \n179                                     Not assigned\\n  "
                    },
                    "execution_count": 52,
                    "metadata": {},
                    "output_type": "execute_result"
                }
            ],
            "source": "df = pd.DataFrame(samples)\ndf.head()\ndf.tail()"
        },
        {
            "cell_type": "code",
            "execution_count": 53,
            "metadata": {},
            "outputs": [],
            "source": "df.rename(columns={'Postal Code\\n': 'Postal Code', 'Borough\\n': 'Borough', 'Neighbourhood\\n': 'Neighbourhood'}, inplace=True)"
        },
        {
            "cell_type": "code",
            "execution_count": 54,
            "metadata": {},
            "outputs": [],
            "source": "df['Postal Code'] = df['Postal Code'].str.replace(r'\\n', '')\ndf['Borough'] = df['Borough'].str.replace(r'\\n', '')\ndf['Neighbourhood'] = df['Neighbourhood'].str.replace(r'\\n', '')"
        },
        {
            "cell_type": "code",
            "execution_count": 58,
            "metadata": {},
            "outputs": [],
            "source": "df = df[df.Borough != 'Not assigned']"
        },
        {
            "cell_type": "code",
            "execution_count": 59,
            "metadata": {},
            "outputs": [
                {
                    "data": {
                        "text/html": "<div>\n<style scoped>\n    .dataframe tbody tr th:only-of-type {\n        vertical-align: middle;\n    }\n\n    .dataframe tbody tr th {\n        vertical-align: top;\n    }\n\n    .dataframe thead th {\n        text-align: right;\n    }\n</style>\n<table border=\"1\" class=\"dataframe\">\n  <thead>\n    <tr style=\"text-align: right;\">\n      <th></th>\n      <th>Postal Code</th>\n      <th>Borough</th>\n      <th>Neighbourhood</th>\n    </tr>\n  </thead>\n  <tbody>\n    <tr>\n      <th>2</th>\n      <td>M3A</td>\n      <td>North York</td>\n      <td>Parkwoods</td>\n    </tr>\n    <tr>\n      <th>3</th>\n      <td>M4A</td>\n      <td>North York</td>\n      <td>Victoria Village</td>\n    </tr>\n    <tr>\n      <th>4</th>\n      <td>M5A</td>\n      <td>Downtown Toronto</td>\n      <td>Regent Park, Harbourfront</td>\n    </tr>\n    <tr>\n      <th>5</th>\n      <td>M6A</td>\n      <td>North York</td>\n      <td>Lawrence Manor, Lawrence Heights</td>\n    </tr>\n    <tr>\n      <th>6</th>\n      <td>M7A</td>\n      <td>Downtown Toronto</td>\n      <td>Queen's Park, Ontario Provincial Government</td>\n    </tr>\n    <tr>\n      <th>...</th>\n      <td>...</td>\n      <td>...</td>\n      <td>...</td>\n    </tr>\n    <tr>\n      <th>160</th>\n      <td>M8X</td>\n      <td>Etobicoke</td>\n      <td>The Kingsway, Montgomery Road, Old Mill North</td>\n    </tr>\n    <tr>\n      <th>165</th>\n      <td>M4Y</td>\n      <td>Downtown Toronto</td>\n      <td>Church and Wellesley</td>\n    </tr>\n    <tr>\n      <th>168</th>\n      <td>M7Y</td>\n      <td>East Toronto</td>\n      <td>Business reply mail Processing Centre, South C...</td>\n    </tr>\n    <tr>\n      <th>169</th>\n      <td>M8Y</td>\n      <td>Etobicoke</td>\n      <td>Old Mill South, King's Mill Park, Sunnylea, Hu...</td>\n    </tr>\n    <tr>\n      <th>178</th>\n      <td>M8Z</td>\n      <td>Etobicoke</td>\n      <td>Mimico NW, The Queensway West, South of Bloor,...</td>\n    </tr>\n  </tbody>\n</table>\n<p>103 rows \u00d7 3 columns</p>\n</div>",
                        "text/plain": "    Postal Code           Borough  \\\n2           M3A        North York   \n3           M4A        North York   \n4           M5A  Downtown Toronto   \n5           M6A        North York   \n6           M7A  Downtown Toronto   \n..          ...               ...   \n160         M8X         Etobicoke   \n165         M4Y  Downtown Toronto   \n168         M7Y      East Toronto   \n169         M8Y         Etobicoke   \n178         M8Z         Etobicoke   \n\n                                         Neighbourhood  \n2                                            Parkwoods  \n3                                     Victoria Village  \n4                            Regent Park, Harbourfront  \n5                     Lawrence Manor, Lawrence Heights  \n6          Queen's Park, Ontario Provincial Government  \n..                                                 ...  \n160      The Kingsway, Montgomery Road, Old Mill North  \n165                               Church and Wellesley  \n168  Business reply mail Processing Centre, South C...  \n169  Old Mill South, King's Mill Park, Sunnylea, Hu...  \n178  Mimico NW, The Queensway West, South of Bloor,...  \n\n[103 rows x 3 columns]"
                    },
                    "execution_count": 59,
                    "metadata": {},
                    "output_type": "execute_result"
                }
            ],
            "source": "df"
        },
        {
            "cell_type": "code",
            "execution_count": 44,
            "metadata": {},
            "outputs": [
                {
                    "data": {
                        "text/plain": "(180, 3)"
                    },
                    "execution_count": 44,
                    "metadata": {},
                    "output_type": "execute_result"
                }
            ],
            "source": "df.shape"
        },
        {
            "cell_type": "markdown",
            "metadata": {},
            "source": "Adding coordinates"
        },
        {
            "cell_type": "code",
            "execution_count": 2,
            "metadata": {},
            "outputs": [
                {
                    "name": "stdout",
                    "output_type": "stream",
                    "text": "Collecting geocoder\n  Downloading geocoder-1.38.1-py2.py3-none-any.whl (98 kB)\n\u001b[K     |\u2588\u2588\u2588\u2588\u2588\u2588\u2588\u2588\u2588\u2588\u2588\u2588\u2588\u2588\u2588\u2588\u2588\u2588\u2588\u2588\u2588\u2588\u2588\u2588\u2588\u2588\u2588\u2588\u2588\u2588\u2588\u2588| 98 kB 9.9 MB/s  eta 0:00:01\n\u001b[?25hCollecting ratelim\n  Downloading ratelim-0.1.6-py2.py3-none-any.whl (4.0 kB)\nRequirement already satisfied: click in /opt/conda/envs/Python-3.7-main/lib/python3.7/site-packages (from geocoder) (7.1.2)\nRequirement already satisfied: future in /opt/conda/envs/Python-3.7-main/lib/python3.7/site-packages (from geocoder) (0.18.2)\nRequirement already satisfied: requests in /opt/conda/envs/Python-3.7-main/lib/python3.7/site-packages (from geocoder) (2.24.0)\nRequirement already satisfied: six in /opt/conda/envs/Python-3.7-main/lib/python3.7/site-packages (from geocoder) (1.15.0)\nRequirement already satisfied: decorator in /opt/conda/envs/Python-3.7-main/lib/python3.7/site-packages (from ratelim->geocoder) (4.4.2)\nRequirement already satisfied: certifi>=2017.4.17 in /opt/conda/envs/Python-3.7-main/lib/python3.7/site-packages (from requests->geocoder) (2020.12.5)\nRequirement already satisfied: urllib3!=1.25.0,!=1.25.1,<1.26,>=1.21.1 in /opt/conda/envs/Python-3.7-main/lib/python3.7/site-packages (from requests->geocoder) (1.25.9)\nRequirement already satisfied: chardet<4,>=3.0.2 in /opt/conda/envs/Python-3.7-main/lib/python3.7/site-packages (from requests->geocoder) (3.0.4)\nRequirement already satisfied: idna<3,>=2.5 in /opt/conda/envs/Python-3.7-main/lib/python3.7/site-packages (from requests->geocoder) (2.9)\nInstalling collected packages: ratelim, geocoder\nSuccessfully installed geocoder-1.38.1 ratelim-0.1.6\n"
                }
            ],
            "source": "!pip install geocoder"
        },
        {
            "cell_type": "code",
            "execution_count": 62,
            "metadata": {},
            "outputs": [
                {
                    "data": {
                        "text/plain": "103"
                    },
                    "execution_count": 62,
                    "metadata": {},
                    "output_type": "execute_result"
                }
            ],
            "source": "Postal_Code = df['Postal Code']\nlen(Postal_Code)"
        },
        {
            "cell_type": "code",
            "execution_count": 63,
            "metadata": {},
            "outputs": [
                {
                    "name": "stdout",
                    "output_type": "stream",
                    "text": "M3A [43.75245000000007, -79.32990999999998]\nM4A [43.73057000000006, -79.31305999999995]\nM5A [43.65512000000007, -79.36263999999994]\nM6A [43.72327000000007, -79.45041999999995]\nM7A [43.66253000000006, -79.39187999999996]\nM9A [43.662630000000036, -79.52830999999998]\nM1B [43.811390000000074, -79.19661999999994]\nM3B [43.74923000000007, -79.36185999999998]\nM4B [43.70718000000005, -79.31191999999999]\nM5B [43.65739000000008, -79.37803999999994]\nM6B [43.70687000000004, -79.44811999999996]\nM9B [43.65034000000003, -79.55361999999997]\nM1C [43.78574000000003, -79.15874999999994]\nM3C [43.72168000000005, -79.34351999999996]\nM4C [43.68970000000007, -79.30681999999996]\nM5C [43.65215000000006, -79.37586999999996]\nM6C [43.69211000000007, -79.43035999999995]\nM9C [43.64857000000006, -79.57824999999997]\nM1E [43.765750000000025, -79.17469999999997]\nM4E [43.67709000000008, -79.29546999999997]\nM5E [43.64536000000004, -79.37305999999995]\nM6E [43.68784000000005, -79.45045999999996]\nM1G [43.76812000000007, -79.21760999999998]\nM4G [43.709020000000066, -79.36348999999996]\nM5G [43.65609000000006, -79.38492999999994]\nM6G [43.668690000000026, -79.42070999999999]\nM1H [43.76944000000003, -79.23891999999995]\nM2H [43.80225000000007, -79.35557999999997]\nM3H [43.75788000000006, -79.44846999999999]\nM4H [43.70142000000004, -79.34904999999998]\nM5H [43.64970000000005, -79.38257999999996]\nM6H [43.665050000000065, -79.43890999999996]\nM1J [43.74446000000006, -79.23116999999996]\nM2J [43.780970000000025, -79.34780999999998]\nM3J [43.76476000000008, -79.48797999999994]\nM4J [43.68811000000005, -79.33417999999995]\nM5J [43.64285000000007, -79.38075999999995]\nM6J [43.64848000000006, -79.41773999999998]\nM1K [43.725820000000056, -79.26460999999995]\nM2K [43.781120000000044, -79.38059999999996]\nM3K [43.73384000000004, -79.46827999999994]\nM4K [43.68375000000003, -79.35511999999994]\nM5K [43.64710000000008, -79.38152999999994]\nM6K [43.639410000000055, -79.42675999999994]\nM1L [43.71289000000007, -79.28505999999999]\nM2L [43.756980000000055, -79.38059999999996]\nM3L [43.720710000000054, -79.51700999999997]\nM4L [43.667970000000025, -79.31466999999998]\nM5L [43.64840000000004, -79.37913999999995]\nM6L [43.71381000000008, -79.48873999999995]\nM9L [43.75948000000005, -79.55706999999995]\nM1M [43.72360000000003, -79.23495999999994]\nM2M [43.79182000000003, -79.41371999999996]\nM3M [43.73224000000005, -79.50177999999994]\nM4M [43.66213000000005, -79.33496999999994]\nM5M [43.73545000000007, -79.41915999999998]\nM6M [43.695170000000076, -79.48396999999994]\nM9M [43.733670000000075, -79.53768999999994]\nM1N [43.695100000000025, -79.26465999999994]\nM2N [43.76774000000006, -79.40727999999996]\nM3N [43.75478000000004, -79.51958999999994]\nM4N [43.72843000000006, -79.38712999999996]\nM5N [43.71208000000007, -79.41847999999999]\nM6N [43.67646000000008, -79.48271999999997]\nM9N [43.705070000000035, -79.51803999999998]\nM1P [43.75998000000004, -79.26939999999996]\nM2P [43.747780000000034, -79.40032999999994]\nM4P [43.71276000000006, -79.38850999999994]\nM5P [43.69479000000007, -79.41439999999994]\nM6P [43.659730000000025, -79.46280999999993]\nM9P [43.696300000000065, -79.52925999999997]\nM1R [43.75075000000004, -79.30053999999996]\nM2R [43.77989000000008, -79.44677999999999]\nM4R [43.71458000000007, -79.40667999999994]\nM5R [43.674840000000074, -79.40451999999993]\nM6R [43.64777000000004, -79.44988999999998]\nM7R [43.648690000000045, -79.38543999999996]\nM9R [43.68681000000004, -79.55727999999993]\nM1S [43.794520000000034, -79.26707999999996]\nM4S [43.703400000000045, -79.38658999999996]\nM5S [43.663110000000074, -79.40179999999998]\nM6S [43.649820000000034, -79.47547999999995]\nM1T [43.784910000000025, -79.29721999999998]\nM4T [43.690480000000036, -79.38317999999998]\nM5T [43.65351000000004, -79.39721999999995]\nM1V [43.817810000000065, -79.28043999999994]\nM4V [43.68568000000005, -79.40236999999996]\nM5V [43.640820000000076, -79.39817999999997]\nM8V [43.60987000000006, -79.49808999999993]\nM9V [43.744530000000054, -79.58623999999998]\nM1W [43.80079000000006, -79.32161999999994]\nM4W [43.68190000000004, -79.37828999999994]\nM5W [43.648690000000045, -79.38543999999996]\nM8W [43.601240000000075, -79.53878999999995]\nM9W [43.71174000000008, -79.57940999999994]\nM1X [43.83412000000004, -79.21667999999994]\nM4X [43.667880000000025, -79.36648999999994]\nM5X [43.64828000000006, -79.38145999999995]\nM8X [43.65319000000005, -79.51112999999998]\nM4Y [43.66659000000004, -79.38132999999993]\nM7Y [43.648690000000045, -79.38543999999996]\nM8Y [43.632780000000025, -79.48944999999998]\nM8Z [43.62513000000007, -79.52680999999995]\n"
                }
            ],
            "source": "latitude=[]\nlongitude=[]\nfor code in df['Postal Code']:\n    g = geocoder.arcgis('{}, Toronto, Ontario'.format(code))\n    print(code, g.latlng)\n    while (g.latlng is None):\n        g = geocoder.arcgis('{}, Toronto, Ontario'.format(code))\n        print(code, g.latlng)\n    latlng = g.latlng\n    latitude.append(latlng[0])\n    longitude.append(latlng[1])"
        },
        {
            "cell_type": "code",
            "execution_count": 67,
            "metadata": {},
            "outputs": [
                {
                    "data": {
                        "text/plain": "103"
                    },
                    "execution_count": 67,
                    "metadata": {},
                    "output_type": "execute_result"
                },
                {
                    "data": {
                        "text/html": "<div>\n<style scoped>\n    .dataframe tbody tr th:only-of-type {\n        vertical-align: middle;\n    }\n\n    .dataframe tbody tr th {\n        vertical-align: top;\n    }\n\n    .dataframe thead th {\n        text-align: right;\n    }\n</style>\n<table border=\"1\" class=\"dataframe\">\n  <thead>\n    <tr style=\"text-align: right;\">\n      <th></th>\n      <th>Postal Code</th>\n      <th>Borough</th>\n      <th>Neighbourhood</th>\n      <th>Latitude</th>\n    </tr>\n  </thead>\n  <tbody>\n    <tr>\n      <th>2</th>\n      <td>M3A</td>\n      <td>North York</td>\n      <td>Parkwoods</td>\n      <td>43.75245</td>\n    </tr>\n    <tr>\n      <th>3</th>\n      <td>M4A</td>\n      <td>North York</td>\n      <td>Victoria Village</td>\n      <td>43.73057</td>\n    </tr>\n    <tr>\n      <th>4</th>\n      <td>M5A</td>\n      <td>Downtown Toronto</td>\n      <td>Regent Park, Harbourfront</td>\n      <td>43.65512</td>\n    </tr>\n    <tr>\n      <th>5</th>\n      <td>M6A</td>\n      <td>North York</td>\n      <td>Lawrence Manor, Lawrence Heights</td>\n      <td>43.72327</td>\n    </tr>\n    <tr>\n      <th>6</th>\n      <td>M7A</td>\n      <td>Downtown Toronto</td>\n      <td>Queen's Park, Ontario Provincial Government</td>\n      <td>43.66253</td>\n    </tr>\n    <tr>\n      <th>...</th>\n      <td>...</td>\n      <td>...</td>\n      <td>...</td>\n      <td>...</td>\n    </tr>\n    <tr>\n      <th>160</th>\n      <td>M8X</td>\n      <td>Etobicoke</td>\n      <td>The Kingsway, Montgomery Road, Old Mill North</td>\n      <td>43.65319</td>\n    </tr>\n    <tr>\n      <th>165</th>\n      <td>M4Y</td>\n      <td>Downtown Toronto</td>\n      <td>Church and Wellesley</td>\n      <td>43.66659</td>\n    </tr>\n    <tr>\n      <th>168</th>\n      <td>M7Y</td>\n      <td>East Toronto</td>\n      <td>Business reply mail Processing Centre, South C...</td>\n      <td>43.64869</td>\n    </tr>\n    <tr>\n      <th>169</th>\n      <td>M8Y</td>\n      <td>Etobicoke</td>\n      <td>Old Mill South, King's Mill Park, Sunnylea, Hu...</td>\n      <td>43.63278</td>\n    </tr>\n    <tr>\n      <th>178</th>\n      <td>M8Z</td>\n      <td>Etobicoke</td>\n      <td>Mimico NW, The Queensway West, South of Bloor,...</td>\n      <td>43.62513</td>\n    </tr>\n  </tbody>\n</table>\n<p>103 rows \u00d7 4 columns</p>\n</div>",
                        "text/plain": "    Postal Code           Borough  \\\n2           M3A        North York   \n3           M4A        North York   \n4           M5A  Downtown Toronto   \n5           M6A        North York   \n6           M7A  Downtown Toronto   \n..          ...               ...   \n160         M8X         Etobicoke   \n165         M4Y  Downtown Toronto   \n168         M7Y      East Toronto   \n169         M8Y         Etobicoke   \n178         M8Z         Etobicoke   \n\n                                         Neighbourhood  Latitude  \n2                                            Parkwoods  43.75245  \n3                                     Victoria Village  43.73057  \n4                            Regent Park, Harbourfront  43.65512  \n5                     Lawrence Manor, Lawrence Heights  43.72327  \n6          Queen's Park, Ontario Provincial Government  43.66253  \n..                                                 ...       ...  \n160      The Kingsway, Montgomery Road, Old Mill North  43.65319  \n165                               Church and Wellesley  43.66659  \n168  Business reply mail Processing Centre, South C...  43.64869  \n169  Old Mill South, King's Mill Park, Sunnylea, Hu...  43.63278  \n178  Mimico NW, The Queensway West, South of Bloor,...  43.62513  \n\n[103 rows x 4 columns]"
                    },
                    "execution_count": 67,
                    "metadata": {},
                    "output_type": "execute_result"
                }
            ],
            "source": "len(latitude)\ndf"
        },
        {
            "cell_type": "code",
            "execution_count": 68,
            "metadata": {},
            "outputs": [
                {
                    "name": "stderr",
                    "output_type": "stream",
                    "text": "/opt/conda/envs/Python-3.7-main/lib/python3.7/site-packages/ipykernel/__main__.py:1: SettingWithCopyWarning: \nA value is trying to be set on a copy of a slice from a DataFrame.\nTry using .loc[row_indexer,col_indexer] = value instead\n\nSee the caveats in the documentation: https://pandas.pydata.org/pandas-docs/stable/user_guide/indexing.html#returning-a-view-versus-a-copy\n  if __name__ == '__main__':\n/opt/conda/envs/Python-3.7-main/lib/python3.7/site-packages/ipykernel/__main__.py:2: SettingWithCopyWarning: \nA value is trying to be set on a copy of a slice from a DataFrame.\nTry using .loc[row_indexer,col_indexer] = value instead\n\nSee the caveats in the documentation: https://pandas.pydata.org/pandas-docs/stable/user_guide/indexing.html#returning-a-view-versus-a-copy\n  from ipykernel import kernelapp as app\n"
                }
            ],
            "source": "df['Latitude'] = latitude\ndf['Longtitue'] =longitude"
        },
        {
            "cell_type": "code",
            "execution_count": 69,
            "metadata": {},
            "outputs": [
                {
                    "data": {
                        "text/html": "<div>\n<style scoped>\n    .dataframe tbody tr th:only-of-type {\n        vertical-align: middle;\n    }\n\n    .dataframe tbody tr th {\n        vertical-align: top;\n    }\n\n    .dataframe thead th {\n        text-align: right;\n    }\n</style>\n<table border=\"1\" class=\"dataframe\">\n  <thead>\n    <tr style=\"text-align: right;\">\n      <th></th>\n      <th>Postal Code</th>\n      <th>Borough</th>\n      <th>Neighbourhood</th>\n      <th>Latitude</th>\n      <th>Longtitue</th>\n    </tr>\n  </thead>\n  <tbody>\n    <tr>\n      <th>2</th>\n      <td>M3A</td>\n      <td>North York</td>\n      <td>Parkwoods</td>\n      <td>43.75245</td>\n      <td>-79.32991</td>\n    </tr>\n    <tr>\n      <th>3</th>\n      <td>M4A</td>\n      <td>North York</td>\n      <td>Victoria Village</td>\n      <td>43.73057</td>\n      <td>-79.31306</td>\n    </tr>\n    <tr>\n      <th>4</th>\n      <td>M5A</td>\n      <td>Downtown Toronto</td>\n      <td>Regent Park, Harbourfront</td>\n      <td>43.65512</td>\n      <td>-79.36264</td>\n    </tr>\n    <tr>\n      <th>5</th>\n      <td>M6A</td>\n      <td>North York</td>\n      <td>Lawrence Manor, Lawrence Heights</td>\n      <td>43.72327</td>\n      <td>-79.45042</td>\n    </tr>\n    <tr>\n      <th>6</th>\n      <td>M7A</td>\n      <td>Downtown Toronto</td>\n      <td>Queen's Park, Ontario Provincial Government</td>\n      <td>43.66253</td>\n      <td>-79.39188</td>\n    </tr>\n    <tr>\n      <th>...</th>\n      <td>...</td>\n      <td>...</td>\n      <td>...</td>\n      <td>...</td>\n      <td>...</td>\n    </tr>\n    <tr>\n      <th>160</th>\n      <td>M8X</td>\n      <td>Etobicoke</td>\n      <td>The Kingsway, Montgomery Road, Old Mill North</td>\n      <td>43.65319</td>\n      <td>-79.51113</td>\n    </tr>\n    <tr>\n      <th>165</th>\n      <td>M4Y</td>\n      <td>Downtown Toronto</td>\n      <td>Church and Wellesley</td>\n      <td>43.66659</td>\n      <td>-79.38133</td>\n    </tr>\n    <tr>\n      <th>168</th>\n      <td>M7Y</td>\n      <td>East Toronto</td>\n      <td>Business reply mail Processing Centre, South C...</td>\n      <td>43.64869</td>\n      <td>-79.38544</td>\n    </tr>\n    <tr>\n      <th>169</th>\n      <td>M8Y</td>\n      <td>Etobicoke</td>\n      <td>Old Mill South, King's Mill Park, Sunnylea, Hu...</td>\n      <td>43.63278</td>\n      <td>-79.48945</td>\n    </tr>\n    <tr>\n      <th>178</th>\n      <td>M8Z</td>\n      <td>Etobicoke</td>\n      <td>Mimico NW, The Queensway West, South of Bloor,...</td>\n      <td>43.62513</td>\n      <td>-79.52681</td>\n    </tr>\n  </tbody>\n</table>\n<p>103 rows \u00d7 5 columns</p>\n</div>",
                        "text/plain": "    Postal Code           Borough  \\\n2           M3A        North York   \n3           M4A        North York   \n4           M5A  Downtown Toronto   \n5           M6A        North York   \n6           M7A  Downtown Toronto   \n..          ...               ...   \n160         M8X         Etobicoke   \n165         M4Y  Downtown Toronto   \n168         M7Y      East Toronto   \n169         M8Y         Etobicoke   \n178         M8Z         Etobicoke   \n\n                                         Neighbourhood  Latitude  Longtitue  \n2                                            Parkwoods  43.75245  -79.32991  \n3                                     Victoria Village  43.73057  -79.31306  \n4                            Regent Park, Harbourfront  43.65512  -79.36264  \n5                     Lawrence Manor, Lawrence Heights  43.72327  -79.45042  \n6          Queen's Park, Ontario Provincial Government  43.66253  -79.39188  \n..                                                 ...       ...        ...  \n160      The Kingsway, Montgomery Road, Old Mill North  43.65319  -79.51113  \n165                               Church and Wellesley  43.66659  -79.38133  \n168  Business reply mail Processing Centre, South C...  43.64869  -79.38544  \n169  Old Mill South, King's Mill Park, Sunnylea, Hu...  43.63278  -79.48945  \n178  Mimico NW, The Queensway West, South of Bloor,...  43.62513  -79.52681  \n\n[103 rows x 5 columns]"
                    },
                    "execution_count": 69,
                    "metadata": {},
                    "output_type": "execute_result"
                }
            ],
            "source": "df"
        }
    ],
    "metadata": {
        "kernelspec": {
            "display_name": "Python 3.7",
            "language": "python",
            "name": "python3"
        },
        "language_info": {
            "codemirror_mode": {
                "name": "ipython",
                "version": 3
            },
            "file_extension": ".py",
            "mimetype": "text/x-python",
            "name": "python",
            "nbconvert_exporter": "python",
            "pygments_lexer": "ipython3",
            "version": "3.7.9"
        }
    },
    "nbformat": 4,
    "nbformat_minor": 1
}